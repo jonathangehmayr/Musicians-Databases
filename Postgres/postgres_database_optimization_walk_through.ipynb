{
 "cells": [
  {
   "cell_type": "markdown",
   "id": "9152f932",
   "metadata": {},
   "source": [
    "# Postgres Database Optimization Walk Through"
   ]
  },
  {
   "cell_type": "markdown",
   "id": "335a9392",
   "metadata": {},
   "source": [
    "## Database and Query Creation"
   ]
  },
  {
   "cell_type": "markdown",
   "id": "8750b93a",
   "metadata": {},
   "source": [
    "Firstly, all necessary modules are imported:"
   ]
  },
  {
   "cell_type": "code",
   "execution_count": 2,
   "id": "8d07a838",
   "metadata": {},
   "outputs": [],
   "source": [
    "import psycopg2\n",
    "from postgres_data_insertion import insert\n",
    "from postgres_optimization_measurements import measure_query_runtime, run_query"
   ]
  },
  {
   "cell_type": "markdown",
   "id": "284f7f73",
   "metadata": {},
   "source": [
    "Prerequisities for running this file is to set up a Postgres database named `musicians` and create the tables running the file `postgres_create_tables.sql` in pgAdmin. After creating the database it is filled using the following command:"
   ]
  },
  {
   "cell_type": "code",
   "execution_count": 3,
   "id": "b1f0cd94",
   "metadata": {},
   "outputs": [
    {
     "name": "stdout",
     "output_type": "stream",
     "text": [
      "Inserted tuples into bands table.\n",
      "Inserted tuples into albums table.\n",
      "Inserted tuples into genres table.\n",
      "Inserted tuples into musicians table.\n",
      "Inserted tuples into has_genre table.\n",
      "Inserted tuples into member_of table.\n",
      "Inserted tuples into has_name table.\n",
      "Filling of database with data done.\n"
     ]
    }
   ],
   "source": [
    "insert()"
   ]
  },
  {
   "cell_type": "markdown",
   "id": "d1d03a3d",
   "metadata": {},
   "source": [
    "For data retrieval two complex queries were implemented in `postgres_queries.sql`. The tasks of the queries are listed respectively:\n",
    "\n",
    "1. **Get the most successful band in the 2010s (01.01.2010 - 31.12.2019) in the most successful genre of the 1990s (01.01.1990 - 31.12.1999)**\n",
    "\n",
    "2. **Add a new album to the most successful band of most successful genre in the 1990s, so that it is more successful than all of the albums of the most successful band in this genre in the 2010s**\n",
    "\n",
    "For the next steps only the first query is considered as the computations in both queries are similar. The next cell runs the first query and outputs the result:"
   ]
  },
  {
   "cell_type": "code",
   "execution_count": 4,
   "id": "e9a0a7dc",
   "metadata": {},
   "outputs": [
    {
     "data": {
      "text/plain": [
       "'http://dbpedia.org/resource/Linkin_Park'"
      ]
     },
     "execution_count": 4,
     "metadata": {},
     "output_type": "execute_result"
    }
   ],
   "source": [
    "query_not_optimized='''SELECT get_most_succesful_band_in_timeframe_in_most_successful_genre_90s('31-12-2009'::date, '01-01-2020'::date);'''\n",
    "\n",
    "with psycopg2.connect(dbname='musicians', user='postgres', password='root') as conn:\n",
    "    cur = conn.cursor()\n",
    "    cur.execute(query_not_optimized)\n",
    "    res=cur.fetchone()[0]\n",
    "res"
   ]
  },
  {
   "cell_type": "markdown",
   "id": "15af645d",
   "metadata": {},
   "source": [
    "## Database Optimization"
   ]
  },
  {
   "cell_type": "markdown",
   "id": "232bbedf",
   "metadata": {},
   "source": [
    "Implementation of the optimization steps of the Postgres database are in the file `postgres_optimization.sql` and the time measurements of each step in `postgres_optimization_measurements.py`. The stepwise evaluation process of the optimization is formally listed below:\n",
    "\n",
    "Stages of optimization:\n",
    "1. No optimization\n",
    "2. Optimization by creating indexes on `albums.release_date` and `albums.band_urls`\n",
    "3. Optimization by creating a materialized view on the common join operations\n",
    "4. Optimization by indexing the materialized view of the most common joins\n",
    "5. Optimization by precomputing the results of the 1. complex query and saving it as a materialized view\n",
    "\n",
    "For each step of optimization the execution time of the query is computed by running a query `n_runs` times and calculating the mean for all runs:"
   ]
  },
  {
   "cell_type": "code",
   "execution_count": 5,
   "id": "75583715",
   "metadata": {},
   "outputs": [
    {
     "name": "stdout",
     "output_type": "stream",
     "text": [
      "Runtime not optimized: 0.0657968521118164\n",
      "Runtime with indexes: 0.06960055828094483\n",
      "Runtime with view on joins: 0.07008936405181884\n",
      "Runtime with index on view on joins: 0.06545779705047608\n",
      "Runtime fully optimized: 0.02109973430633545\n"
     ]
    }
   ],
   "source": [
    "query_drop_indexes='''SELECT drop_indexes();'''\n",
    "query_create_indexes='''SELECT create_indexes();'''\n",
    "query_create_index_view='''SELECT create_index_on_view();'''\n",
    "query_not_optimized='''SELECT get_most_succesful_band_in_timeframe_in_most_successful_genre_90s('31-12-2009'::date, '01-01-2020'::date);'''\n",
    "query_optimized_view='''SELECT get_most_succesful_band_in_timeframe_in_most_successful_genre_90s_optimzed_view_joins('31-12-2009'::date, '01-01-2020'::date);'''\n",
    "query_fully_optimized='''SELECT get_most_succesful_band_in_timeframe_in_most_successful_genre_90s_fully_optimized()'''\n",
    "    \n",
    "n_runs=10\n",
    "        \n",
    "      \n",
    "# 1. Runtime not optimized:\n",
    "run_query(query_drop_indexes)\n",
    "runtime_not_optimized=measure_query_runtime(query_not_optimized, n_runs)\n",
    "print('Runtime not optimized: {}'.format(runtime_not_optimized))\n",
    "    \n",
    "    \n",
    "# 2. Runtime with indexes:\n",
    "run_query(query_create_indexes)\n",
    "runtime_with_indexes=measure_query_runtime(query_not_optimized, n_runs)\n",
    "print('Runtime with indexes: {}'.format(runtime_with_indexes))\n",
    "    \n",
    "# 3. Runtime with view on joins:\n",
    "runtime_with_view=measure_query_runtime(query_optimized_view, n_runs)\n",
    "print('Runtime with view on joins: {}'.format(runtime_with_view))\n",
    "    \n",
    "    \n",
    "# 4. Runtime with index on view on joins:\n",
    "run_query(query_create_index_view)\n",
    "runtime_with_view_and_index=measure_query_runtime(query_optimized_view, n_runs)\n",
    "print('Runtime with index on view on joins: {}'.format(runtime_with_view_and_index))\n",
    "    \n",
    "    \n",
    "# 5. Runtime fully optimized query:\n",
    "runtime_fully_optimized=measure_query_runtime(query_fully_optimized, n_runs)\n",
    "print('Runtime fully optimized: {}'.format(runtime_fully_optimized))"
   ]
  },
  {
   "cell_type": "code",
   "execution_count": null,
   "id": "e1775494",
   "metadata": {},
   "outputs": [],
   "source": []
  }
 ],
 "metadata": {
  "kernelspec": {
   "display_name": "Python 3 (ipykernel)",
   "language": "python",
   "name": "python3"
  },
  "language_info": {
   "codemirror_mode": {
    "name": "ipython",
    "version": 3
   },
   "file_extension": ".py",
   "mimetype": "text/x-python",
   "name": "python",
   "nbconvert_exporter": "python",
   "pygments_lexer": "ipython3",
   "version": "3.8.5"
  }
 },
 "nbformat": 4,
 "nbformat_minor": 5
}
