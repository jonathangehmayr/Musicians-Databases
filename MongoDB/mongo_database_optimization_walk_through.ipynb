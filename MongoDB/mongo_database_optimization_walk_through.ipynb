{
 "cells": [
  {
   "cell_type": "markdown",
   "id": "ebbd3b77",
   "metadata": {},
   "source": [
    "#  Mongo Database Optimization Walk Through"
   ]
  },
  {
   "cell_type": "markdown",
   "id": "e971c5cc",
   "metadata": {},
   "source": [
    "##  Database and Query Creation"
   ]
  },
  {
   "cell_type": "markdown",
   "id": "384dccb3",
   "metadata": {},
   "source": [
    "Firstly, all necessary modules are imported:"
   ]
  },
  {
   "cell_type": "code",
   "execution_count": 9,
   "id": "3c982f0b",
   "metadata": {},
   "outputs": [],
   "source": [
    "from datetime import datetime\n",
    "import pymongo\n",
    "from mongo_data_insertion import insert\n",
    "from mongo_optimization import create_indexes, create_additional_fields\n",
    "from mongo_queries import get_genre, get_band\n",
    "from mongo_optimization_measurements import measure_query_runtime,query_bands,query_bands_optimized"
   ]
  },
  {
   "cell_type": "markdown",
   "id": "bc06cef2",
   "metadata": {},
   "source": [
    "Creation of MongoDB database and insertion of documents:"
   ]
  },
  {
   "cell_type": "code",
   "execution_count": 3,
   "id": "1a210a3e",
   "metadata": {},
   "outputs": [
    {
     "name": "stdout",
     "output_type": "stream",
     "text": [
      "Inserted 10000 of 10000 documents in database\r"
     ]
    }
   ],
   "source": [
    "insert()"
   ]
  },
  {
   "cell_type": "markdown",
   "id": "16a0eb8b",
   "metadata": {},
   "source": [
    "For data retrieval two complex queries were implemented in `mongo_queries.py`. The tasks of the queries are listed respectively:\n",
    "\n",
    "1. **Get the most successful band in the 2010s (01.01.2010 - 31.12.2019) in the most successful genre of the 1990s (01.01.1990 - 31.12.1999)**\n",
    "\n",
    "2. **Add a new album to the most successful band of most successful genre in the 1990s, so that it is more successful than all of the albums of the most successful band in this genre in the 2010s**\n",
    "\n",
    "For the next steps only the first query is considered as the computations in both queries are similar. The next cell runs the first query and outputs the result:"
   ]
  },
  {
   "cell_type": "code",
   "execution_count": 10,
   "id": "af54838e",
   "metadata": {},
   "outputs": [
    {
     "data": {
      "text/plain": [
       "'http://dbpedia.org/resource/The_Offspring'"
      ]
     },
     "execution_count": 10,
     "metadata": {},
     "output_type": "execute_result"
    }
   ],
   "source": [
    "start_90s=datetime(1989,12,31,0,0,0,0)\n",
    "end_90s=datetime(2000,1,1,0,0,0,0)\n",
    "start_10s=datetime(2009,12,31,0,0,0,0)\n",
    "end_10s=datetime(2020,1,1,0,0,0,0)\n",
    "\n",
    "with pymongo.MongoClient('mongodb://localhost:27017/') as client:\n",
    "    col = client.musicians.bands\n",
    "    genre=get_genre(col,start_90s, end_90s)\n",
    "    band_10s=get_band(col,start_10s, end_10s, genre)\n",
    "band_10s"
   ]
  },
  {
   "cell_type": "markdown",
   "id": "36171a28",
   "metadata": {},
   "source": [
    "## Database Optimization"
   ]
  },
  {
   "cell_type": "markdown",
   "id": "db4aa976",
   "metadata": {},
   "source": [
    "The definition of the optimization steps for the MongoDB is listed below:\n",
    "1. **No optimization**\n",
    "2. **Optimization by adding indexes on the fields `albums.release_date` and `genres`**\n",
    "3. **Optimization by precomputing the sum of sales in the 1990s and 2010s and adding additional fields to relevant documents**\n",
    "\n",
    "For optimizing of the database the cell below is adding indexes on the fields `albums.release_date` and `genres` and precomputing the sum of sales in the 1990s and 2010s and adding additional field to relevant documents:"
   ]
  },
  {
   "cell_type": "code",
   "execution_count": 11,
   "id": "4d77e507",
   "metadata": {},
   "outputs": [
    {
     "name": "stdout",
     "output_type": "stream",
     "text": [
      "Inserted 3317 of 3317 fields in database\r"
     ]
    }
   ],
   "source": [
    "with pymongo.MongoClient('mongodb://localhost:27017/') as client:\n",
    "    col = client.musicians.bands\n",
    "    create_indexes(col)\n",
    "    create_additional_fields(col)"
   ]
  },
  {
   "cell_type": "markdown",
   "id": "303a7279",
   "metadata": {},
   "source": [
    "Measurements for each step of the optimization process are performed by running query 1 `n_runs` and averaging the runtime of each run:"
   ]
  },
  {
   "cell_type": "code",
   "execution_count": 8,
   "id": "083139f2",
   "metadata": {},
   "outputs": [
    {
     "name": "stdout",
     "output_type": "stream",
     "text": [
      "Runtime not optimized: 0.18725986480712892\n",
      "Runtime with indexes: 0.16331088542938232\n",
      "Runtime optimized: 0.10087838172912597\n"
     ]
    }
   ],
   "source": [
    "n_runs=10\n",
    "    \n",
    "#measuring runtime with not optimized query\n",
    "with pymongo.MongoClient('mongodb://localhost:27017/') as client:\n",
    "    col = client.musicians.bands\n",
    "    col.drop_indexes() \n",
    "runtime_not_optimized=measure_query_runtime(query_bands, n_runs)\n",
    "print('Runtime not optimized: {}'.format(runtime_not_optimized))\n",
    "    \n",
    "#measuring runtime creating indexes on release_date and genres\n",
    "with pymongo.MongoClient('mongodb://localhost:27017/') as client:\n",
    "    col = client.musicians.bands\n",
    "    create_indexes(col)\n",
    "runtime_with_indexes=measure_query_runtime(query_bands, n_runs) \n",
    "print('Runtime with indexes: {}'.format(runtime_with_indexes))\n",
    "    \n",
    "#measuring runtime using optimized queries\n",
    "runtime_optimized=measure_query_runtime(query_bands_optimized, n_runs) \n",
    "print('Runtime optimized: {}'.format(runtime_optimized))"
   ]
  },
  {
   "cell_type": "code",
   "execution_count": null,
   "id": "49757373",
   "metadata": {},
   "outputs": [],
   "source": []
  }
 ],
 "metadata": {
  "kernelspec": {
   "display_name": "Python 3 (ipykernel)",
   "language": "python",
   "name": "python3"
  },
  "language_info": {
   "codemirror_mode": {
    "name": "ipython",
    "version": 3
   },
   "file_extension": ".py",
   "mimetype": "text/x-python",
   "name": "python",
   "nbconvert_exporter": "python",
   "pygments_lexer": "ipython3",
   "version": "3.8.5"
  }
 },
 "nbformat": 4,
 "nbformat_minor": 5
}
